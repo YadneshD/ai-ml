{
 "cells": [
  {
   "cell_type": "code",
   "execution_count": 1,
   "id": "e2ebb7b6",
   "metadata": {},
   "outputs": [],
   "source": [
    "#import pandas as pd\n",
    "import numpy as np\n",
    "from matplotlib import pyplot as plt\n"
   ]
  },
  {
   "cell_type": "code",
   "execution_count": 2,
   "id": "641287fd",
   "metadata": {},
   "outputs": [],
   "source": [
    "import torch.optim as optim\n",
    "import torch\n",
    "from torch.utils.tensorboard import SummaryWriter\n",
    "from torch.optim import lr_scheduler\n",
    "import torch.nn as nn\n",
    "import torch.nn.functional as F"
   ]
  },
  {
   "cell_type": "code",
   "execution_count": 4,
   "id": "8494e7c8",
   "metadata": {},
   "outputs": [
    {
     "name": "stdout",
     "output_type": "stream",
     "text": [
      "----------------------------------------------------------------\n",
      "        Layer (type)               Output Shape         Param #\n",
      "================================================================\n",
      "            Linear-1                [-1, 1, 10]              80\n",
      "            Linear-2                 [-1, 1, 3]              33\n",
      "================================================================\n",
      "Total params: 113\n",
      "Trainable params: 113\n",
      "Non-trainable params: 0\n",
      "----------------------------------------------------------------\n",
      "Input size (MB): 0.00\n",
      "Forward/backward pass size (MB): 0.00\n",
      "Params size (MB): 0.00\n",
      "Estimated Total Size (MB): 0.00\n",
      "----------------------------------------------------------------\n"
     ]
    }
   ],
   "source": [
    "class my_model(nn.Module):\n",
    "    '''A simple model with 1 hidden layer. 7,10 and 3 neurons in input, hidden and output layer respectively.'''\n",
    "    def __init__(self): \n",
    "        super(my_model, self).__init__()\n",
    "        self.input_layer = nn.Linear(in_features=7, out_features=10)\n",
    "        self.output_layer = nn.Linear(in_features=10, out_features=3)\n",
    "    \n",
    "    def forward(self, x1):\n",
    "        output = self.output_layer(F.relu(self.input_layer(x1)))\n",
    "        return output\n",
    "    \n",
    "model = my_model()\n",
    "from torchsummary import summary\n",
    "summary(model, (1,7))"
   ]
  },
  {
   "cell_type": "code",
   "execution_count": 6,
   "id": "d67807a9",
   "metadata": {},
   "outputs": [],
   "source": [
    "criterion = torch.nn.MSELoss(reduction='sum')\n",
    "optimizer = optim.RMSprop(model.parameters(), lr=1, weight_decay=0, momentum=0, \n",
    "                          centered=False)"
   ]
  },
  {
   "cell_type": "markdown",
   "id": "eb9ccfed",
   "metadata": {},
   "source": []
  },
  {
   "cell_type": "code",
   "execution_count": null,
   "id": "3fe5ad0b",
   "metadata": {},
   "outputs": [],
   "source": []
  }
 ],
 "metadata": {
  "kernelspec": {
   "display_name": "Python 3 (ipykernel)",
   "language": "python",
   "name": "python3"
  },
  "language_info": {
   "codemirror_mode": {
    "name": "ipython",
    "version": 3
   },
   "file_extension": ".py",
   "mimetype": "text/x-python",
   "name": "python",
   "nbconvert_exporter": "python",
   "pygments_lexer": "ipython3",
   "version": "3.9.10"
  }
 },
 "nbformat": 4,
 "nbformat_minor": 5
}
