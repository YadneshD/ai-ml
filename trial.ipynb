{
 "cells": [
  {
   "cell_type": "code",
   "execution_count": 1,
   "metadata": {},
   "outputs": [],
   "source": [
    "import torch\n",
    "import torch.nn as nn\n",
    "import torch.nn.functional as F\n",
    "from torchsummary import summary"
   ]
  },
  {
   "cell_type": "code",
   "execution_count": 2,
   "metadata": {},
   "outputs": [
    {
     "name": "stdout",
     "output_type": "stream",
     "text": [
      "----------------------------------------------------------------\n",
      "        Layer (type)               Output Shape         Param #\n",
      "================================================================\n",
      "            Linear-1                [-1, 1, 10]              80\n",
      "            Linear-2                 [-1, 1, 3]              33\n",
      "================================================================\n",
      "Total params: 113\n",
      "Trainable params: 113\n",
      "Non-trainable params: 0\n",
      "----------------------------------------------------------------\n",
      "Input size (MB): 0.00\n",
      "Forward/backward pass size (MB): 0.00\n",
      "Params size (MB): 0.00\n",
      "Estimated Total Size (MB): 0.00\n",
      "----------------------------------------------------------------\n"
     ]
    }
   ],
   "source": [
    "class my_model(nn.Module):\n",
    "    '''A simple model with 1 hidden layer. 7,10 and 3 neurons in input, hidden and output layer respectively.'''\n",
    "    def __init__(self): \n",
    "        super(my_model, self).__init__()\n",
    "        self.input_layer = nn.Linear(in_features=7, out_features=10)\n",
    "        self.output_layer = nn.Linear(in_features=10, out_features=3)\n",
    "    \n",
    "    def forward(self, x1):\n",
    "        output = self.output_layer(F.relu(self.input_layer(x1)))\n",
    "        return output\n",
    "    \n",
    "model = my_model()  \n",
    "summary(model, (1,7))"
   ]
  },
  {
   "cell_type": "code",
   "execution_count": 3,
   "metadata": {},
   "outputs": [],
   "source": [
    "import torch.optim as optim\n",
    "from torch.optim import lr_scheduler\n",
    "\n",
    "criterion = torch.nn.MSELoss(reduction=None)\n",
    "optimizer = optim.SGD(model.parameters(), lr=2)"
   ]
  },
  {
   "cell_type": "code",
   "execution_count": 4,
   "metadata": {},
   "outputs": [],
   "source": [
    "def get_lr(optimizer):\n",
    "    '''Get Current Learning Rate'''\n",
    "    for param_group in optimizer.param_groups:\n",
    "        return param_group['lr']"
   ]
  },
  {
   "cell_type": "code",
   "execution_count": 5,
   "metadata": {},
   "outputs": [],
   "source": [
    "import copy, time\n",
    "from torch.utils.tensorboard import SummaryWriter\n",
    "\n",
    "def train_model(model, criterion, optimizer, scheduler, num_epochs=5):\n",
    "    writer = SummaryWriter(\"./tensorboard_events\")\n",
    "    for epoch in range(num_epochs):\n",
    "        print('-'*40)\n",
    "        print('Epoch {}/{}'.format(epoch, num_epochs - 1))\n",
    "        optimizer.step()\n",
    "        scheduler.step()\n",
    "        lr = get_lr(optimizer)\n",
    "        writer.add_scalar(\"Learning Rate\", lr, epoch)\n",
    "        print('Learning Rate', lr)\n",
    "    writer.flush()\n",
    "    writer.close()\n",
    "    return model"
   ]
  },
  {
   "cell_type": "code",
   "execution_count": 6,
   "metadata": {},
   "outputs": [],
   "source": [
    "criterion = torch.nn.MSELoss(reduction='sum')\n",
    "optimizer = optim.SGD(model.parameters(), lr=1.0)"
   ]
  },
  {
   "cell_type": "code",
   "execution_count": 7,
   "metadata": {},
   "outputs": [
    {
     "name": "stdout",
     "output_type": "stream",
     "text": [
      "Adjusting learning rate of group 0 to 1.0000e+00.\n"
     ]
    },
    {
     "name": "stderr",
     "output_type": "stream",
     "text": [
      "2022-08-10 17:43:58.232275: I tensorflow/core/util/util.cc:169] oneDNN custom operations are on. You may see slightly different numerical results due to floating-point round-off errors from different computation orders. To turn them off, set the environment variable `TF_ENABLE_ONEDNN_OPTS=0`.\n",
      "2022-08-10 17:43:58.234624: W tensorflow/stream_executor/platform/default/dso_loader.cc:64] Could not load dynamic library 'libcudart.so.11.0'; dlerror: libcudart.so.11.0: cannot open shared object file: No such file or directory\n",
      "2022-08-10 17:43:58.234631: I tensorflow/stream_executor/cuda/cudart_stub.cc:29] Ignore above cudart dlerror if you do not have a GPU set up on your machine.\n"
     ]
    },
    {
     "name": "stdout",
     "output_type": "stream",
     "text": [
      "----------------------------------------\n",
      "Epoch 0/11\n",
      "Adjusting learning rate of group 0 to 1.0000e+00.\n",
      "Learning Rate 1.0\n",
      "----------------------------------------\n",
      "Epoch 1/11\n",
      "Adjusting learning rate of group 0 to 1.0000e+00.\n",
      "Learning Rate 1.0\n",
      "----------------------------------------\n",
      "Epoch 2/11\n",
      "Adjusting learning rate of group 0 to 1.0000e-01.\n",
      "Learning Rate 0.1\n",
      "----------------------------------------\n",
      "Epoch 3/11\n",
      "Adjusting learning rate of group 0 to 1.0000e-01.\n",
      "Learning Rate 0.1\n",
      "----------------------------------------\n",
      "Epoch 4/11\n",
      "Adjusting learning rate of group 0 to 1.0000e-01.\n",
      "Learning Rate 0.1\n",
      "----------------------------------------\n",
      "Epoch 5/11\n",
      "Adjusting learning rate of group 0 to 1.0000e-02.\n",
      "Learning Rate 0.010000000000000002\n",
      "----------------------------------------\n",
      "Epoch 6/11\n",
      "Adjusting learning rate of group 0 to 1.0000e-02.\n",
      "Learning Rate 0.010000000000000002\n",
      "----------------------------------------\n",
      "Epoch 7/11\n",
      "Adjusting learning rate of group 0 to 1.0000e-02.\n",
      "Learning Rate 0.010000000000000002\n",
      "----------------------------------------\n",
      "Epoch 8/11\n",
      "Adjusting learning rate of group 0 to 1.0000e-03.\n",
      "Learning Rate 0.0010000000000000002\n",
      "----------------------------------------\n",
      "Epoch 9/11\n",
      "Adjusting learning rate of group 0 to 1.0000e-03.\n",
      "Learning Rate 0.0010000000000000002\n",
      "----------------------------------------\n",
      "Epoch 10/11\n",
      "Adjusting learning rate of group 0 to 1.0000e-03.\n",
      "Learning Rate 0.0010000000000000002\n",
      "----------------------------------------\n",
      "Epoch 11/11\n",
      "Adjusting learning rate of group 0 to 1.0000e-04.\n",
      "Learning Rate 0.00010000000000000003\n"
     ]
    }
   ],
   "source": [
    "lrchanger = lr_scheduler.StepLR(optimizer, step_size=3, gamma=0.1, last_epoch=- 1, verbose=True)\n",
    "model_ft = train_model(model, criterion, optimizer, lrchanger, num_epochs=12)"
   ]
  },
  {
   "cell_type": "code",
   "execution_count": 8,
   "metadata": {},
   "outputs": [
    {
     "name": "stdout",
     "output_type": "stream",
     "text": [
      "Adjusting learning rate of group 0 to 1.0000e-04.\n",
      "----------------------------------------\n",
      "Epoch 0/9\n",
      "Adjusting learning rate of group 0 to 5.0000e-05.\n",
      "Learning Rate 5.0000000000000016e-05\n",
      "----------------------------------------\n",
      "Epoch 1/9\n",
      "Adjusting learning rate of group 0 to 5.0000e-05.\n",
      "Learning Rate 5.0000000000000016e-05\n",
      "----------------------------------------\n",
      "Epoch 2/9\n",
      "Adjusting learning rate of group 0 to 2.5000e-05.\n",
      "Learning Rate 2.5000000000000008e-05\n",
      "----------------------------------------\n",
      "Epoch 3/9\n",
      "Adjusting learning rate of group 0 to 2.5000e-05.\n",
      "Learning Rate 2.5000000000000008e-05\n",
      "----------------------------------------\n",
      "Epoch 4/9\n",
      "Adjusting learning rate of group 0 to 1.2500e-05.\n",
      "Learning Rate 1.2500000000000004e-05\n",
      "----------------------------------------\n",
      "Epoch 5/9\n",
      "Adjusting learning rate of group 0 to 1.2500e-05.\n",
      "Learning Rate 1.2500000000000004e-05\n",
      "----------------------------------------\n",
      "Epoch 6/9\n",
      "Adjusting learning rate of group 0 to 6.2500e-06.\n",
      "Learning Rate 6.250000000000002e-06\n",
      "----------------------------------------\n",
      "Epoch 7/9\n",
      "Adjusting learning rate of group 0 to 6.2500e-06.\n",
      "Learning Rate 6.250000000000002e-06\n",
      "----------------------------------------\n",
      "Epoch 8/9\n",
      "Adjusting learning rate of group 0 to 3.1250e-06.\n",
      "Learning Rate 3.125000000000001e-06\n",
      "----------------------------------------\n",
      "Epoch 9/9\n",
      "Adjusting learning rate of group 0 to 3.1250e-06.\n",
      "Learning Rate 3.125000000000001e-06\n"
     ]
    },
    {
     "data": {
      "text/plain": [
       "'Takes function as input which inturn takes epoch number as input. The function\\nreturns a  number which is multiplied with current lr to give new lr'"
      ]
     },
     "execution_count": 8,
     "metadata": {},
     "output_type": "execute_result"
    }
   ],
   "source": [
    "def func1(epoch):\n",
    "    return 1 if epoch%2==0 else 0.5\n",
    "\n",
    "lrchanger = lr_scheduler.MultiplicativeLR(optimizer, lr_lambda=func1, verbose=True)\n",
    "model_ft = train_model(model, criterion, optimizer, lrchanger, num_epochs=10)\n",
    "'''Takes function as input which inturn takes epoch number as input. The function\n",
    "returns a  number which is multiplied with current lr to give new lr'''"
   ]
  },
  {
   "cell_type": "code",
   "execution_count": 9,
   "metadata": {},
   "outputs": [
    {
     "name": "stdout",
     "output_type": "stream",
     "text": [
      "Adjusting learning rate of group 0 to 1.0000e+00.\n",
      "----------------------------------------\n",
      "Epoch 0/11\n",
      "Adjusting learning rate of group 0 to 1.0000e+00.\n",
      "Learning Rate 1.0\n",
      "----------------------------------------\n",
      "Epoch 1/11\n",
      "Adjusting learning rate of group 0 to 1.0000e+00.\n",
      "Learning Rate 1.0\n",
      "----------------------------------------\n",
      "Epoch 2/11\n",
      "Adjusting learning rate of group 0 to 1.0000e+00.\n",
      "Learning Rate 1.0\n",
      "----------------------------------------\n",
      "Epoch 3/11\n",
      "Adjusting learning rate of group 0 to 1.0000e+00.\n",
      "Learning Rate 1.0\n",
      "----------------------------------------\n",
      "Epoch 4/11\n",
      "Adjusting learning rate of group 0 to 1.0000e+00.\n",
      "Learning Rate 1.0\n",
      "----------------------------------------\n",
      "Epoch 5/11\n",
      "Adjusting learning rate of group 0 to 1.0000e+00.\n",
      "Learning Rate 1.0\n",
      "----------------------------------------\n",
      "Epoch 6/11\n",
      "Adjusting learning rate of group 0 to 1.0000e+00.\n",
      "Learning Rate 1.0\n",
      "----------------------------------------\n",
      "Epoch 7/11\n",
      "Adjusting learning rate of group 0 to 1.0000e+00.\n",
      "Learning Rate 1.0\n",
      "----------------------------------------\n",
      "Epoch 8/11\n",
      "Adjusting learning rate of group 0 to 1.0000e+00.\n",
      "Learning Rate 1.0\n",
      "----------------------------------------\n",
      "Epoch 9/11\n",
      "Adjusting learning rate of group 0 to 1.0000e+00.\n",
      "Learning Rate 1.0\n",
      "----------------------------------------\n",
      "Epoch 10/11\n",
      "Adjusting learning rate of group 0 to 1.0000e+00.\n",
      "Learning Rate 1.0\n",
      "----------------------------------------\n",
      "Epoch 11/11\n",
      "Adjusting learning rate of group 0 to 1.0000e+00.\n",
      "Learning Rate 1.0\n"
     ]
    },
    {
     "data": {
      "text/plain": [
       "'useful if optimizer has multiple groups and each group needs a unique custom\\nfunction to calculate the learning rate. check official documentation'"
      ]
     },
     "execution_count": 9,
     "metadata": {},
     "output_type": "execute_result"
    }
   ],
   "source": [
    "lambda1 = lambda epoch:1\n",
    "lrchanger = lr_scheduler.LambdaLR(optimizer, lr_lambda=[lambda1], verbose=True)\n",
    "model_ft = train_model(model, criterion, optimizer, lrchanger, num_epochs=12)\n",
    "'''useful if optimizer has multiple groups and each group needs a unique custom\n",
    "function to calculate the learning rate. check official documentation'''"
   ]
  },
  {
   "cell_type": "code",
   "execution_count": 17,
   "metadata": {},
   "outputs": [
    {
     "name": "stdout",
     "output_type": "stream",
     "text": [
      "Initial lr = 0.8\n",
      "Adjusting learning rate of group 0 to 4.0000e-02.\n",
      "----------------------------------------\n",
      "Epoch 0/11\n",
      "Adjusting learning rate of group 0 to 4.0000e-02.\n",
      "Learning Rate 0.04000000000000001\n",
      "----------------------------------------\n",
      "Epoch 1/11\n",
      "Adjusting learning rate of group 0 to 4.0000e-02.\n",
      "Learning Rate 0.04000000000000001\n",
      "----------------------------------------\n",
      "Epoch 2/11\n",
      "Adjusting learning rate of group 0 to 4.0000e-02.\n",
      "Learning Rate 0.04000000000000001\n",
      "----------------------------------------\n",
      "Epoch 3/11\n",
      "Adjusting learning rate of group 0 to 4.0000e-02.\n",
      "Learning Rate 0.04000000000000001\n",
      "----------------------------------------\n",
      "Epoch 4/11\n",
      "Adjusting learning rate of group 0 to 4.0000e-02.\n",
      "Learning Rate 0.04000000000000001\n",
      "----------------------------------------\n",
      "Epoch 5/11\n",
      "Adjusting learning rate of group 0 to 4.0000e-02.\n",
      "Learning Rate 0.04000000000000001\n",
      "----------------------------------------\n",
      "Epoch 6/11\n",
      "Adjusting learning rate of group 0 to 8.0000e-01.\n",
      "Learning Rate 0.8000000000000002\n",
      "----------------------------------------\n",
      "Epoch 7/11\n",
      "Adjusting learning rate of group 0 to 8.0000e-01.\n",
      "Learning Rate 0.8000000000000002\n",
      "----------------------------------------\n",
      "Epoch 8/11\n",
      "Adjusting learning rate of group 0 to 8.0000e-01.\n",
      "Learning Rate 0.8000000000000002\n",
      "----------------------------------------\n",
      "Epoch 9/11\n",
      "Adjusting learning rate of group 0 to 8.0000e-01.\n",
      "Learning Rate 0.8000000000000002\n",
      "----------------------------------------\n",
      "Epoch 10/11\n",
      "Adjusting learning rate of group 0 to 8.0000e-01.\n",
      "Learning Rate 0.8000000000000002\n",
      "----------------------------------------\n",
      "Epoch 11/11\n",
      "Adjusting learning rate of group 0 to 8.0000e-01.\n",
      "Learning Rate 0.8000000000000002\n"
     ]
    },
    {
     "data": {
      "text/plain": [
       "\"Decays lr by a constant value = 'factor' for ('total_iters' -1 ) number of epochs\""
      ]
     },
     "execution_count": 17,
     "metadata": {},
     "output_type": "execute_result"
    }
   ],
   "source": [
    "optimizer = optim.SGD(model.parameters(), lr=0.8)\n",
    "print('Initial lr set at optimizer = 0.8')\n",
    "lrchanger=lr_scheduler.ConstantLR(optimizer, factor=0.05, total_iters=7, last_epoch=-1, verbose=True)\n",
    "model_ft = train_model(model, criterion, optimizer, lrchanger, num_epochs=12)\n",
    "\n",
    "'''Decays lr by a constant value = 'factor' for ('total_iters' -1 ) number of epochs'''"
   ]
  },
  {
   "cell_type": "code",
   "execution_count": null,
   "metadata": {},
   "outputs": [],
   "source": []
  }
 ],
 "metadata": {
  "kernelspec": {
   "display_name": "Python 3 (ipykernel)",
   "language": "python",
   "name": "python3"
  },
  "language_info": {
   "codemirror_mode": {
    "name": "ipython",
    "version": 3
   },
   "file_extension": ".py",
   "mimetype": "text/x-python",
   "name": "python",
   "nbconvert_exporter": "python",
   "pygments_lexer": "ipython3",
   "version": "3.9.10"
  },
  "vscode": {
   "interpreter": {
    "hash": "4038ad5be30ecc61a8f101313347a097c198cb59f9913c05f20314cabc186213"
   }
  }
 },
 "nbformat": 4,
 "nbformat_minor": 2
}
